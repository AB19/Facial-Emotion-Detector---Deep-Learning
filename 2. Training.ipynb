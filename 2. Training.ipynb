{
 "cells": [
  {
   "cell_type": "markdown",
   "metadata": {},
   "source": [
    "### Facial Expression Recognizer - Part 2 (Training CNN)"
   ]
  },
  {
   "cell_type": "code",
   "execution_count": 1,
   "metadata": {},
   "outputs": [
    {
     "name": "stderr",
     "output_type": "stream",
     "text": [
      "C:\\Users\\abhil\\Anaconda3\\lib\\site-packages\\h5py\\__init__.py:36: FutureWarning: Conversion of the second argument of issubdtype from `float` to `np.floating` is deprecated. In future, it will be treated as `np.float64 == np.dtype(float).type`.\n",
      "  from ._conv import register_converters as _register_converters\n",
      "Using TensorFlow backend.\n"
     ]
    }
   ],
   "source": [
    "import numpy as np\n",
    "from sklearn.model_selection import train_test_split\n",
    "from keras.models import Sequential\n",
    "from keras.layers import Convolution2D, MaxPooling2D\n",
    "from keras.layers.core import Activation, Dense, Flatten, Dropout\n",
    "import keras"
   ]
  },
  {
   "cell_type": "code",
   "execution_count": 2,
   "metadata": {},
   "outputs": [],
   "source": [
    "# function to get data from a numpy file\n",
    "# arguments: filename\n",
    "# return values: data\n",
    "def getData (filename):\n",
    "    return np.load (filename)"
   ]
  },
  {
   "cell_type": "code",
   "execution_count": 3,
   "metadata": {},
   "outputs": [
    {
     "data": {
      "text/plain": [
       "(200, 256, 256, 1)"
      ]
     },
     "execution_count": 3,
     "metadata": {},
     "output_type": "execute_result"
    }
   ],
   "source": [
    "xTrain = getData ('./Data/trainFeatures.npy')\n",
    "xTrain = xTrain.reshape (xTrain.shape[0], 256, 256, 1)\n",
    "xTrain.shape"
   ]
  },
  {
   "cell_type": "code",
   "execution_count": 4,
   "metadata": {},
   "outputs": [
    {
     "data": {
      "text/plain": [
       "(13, 256, 256, 1)"
      ]
     },
     "execution_count": 4,
     "metadata": {},
     "output_type": "execute_result"
    }
   ],
   "source": [
    "xTest = getData ('./Data/testFeatures.npy')\n",
    "xTest = xTest.reshape (xTest.shape[0], 256, 256, 1)\n",
    "xTest.shape"
   ]
  },
  {
   "cell_type": "code",
   "execution_count": 5,
   "metadata": {},
   "outputs": [
    {
     "data": {
      "text/plain": [
       "(200,)"
      ]
     },
     "execution_count": 5,
     "metadata": {},
     "output_type": "execute_result"
    }
   ],
   "source": [
    "yTrain = getData ('./Data/trainLabels.npy')\n",
    "yTrain.shape"
   ]
  },
  {
   "cell_type": "code",
   "execution_count": 6,
   "metadata": {},
   "outputs": [
    {
     "data": {
      "text/plain": [
       "(200, 7)"
      ]
     },
     "execution_count": 6,
     "metadata": {},
     "output_type": "execute_result"
    }
   ],
   "source": [
    "yTrain = yTrain.reshape (len (yTrain), 1)\n",
    "yTrain = keras.utils.to_categorical (yTrain, 7)\n",
    "yTrain.shape"
   ]
  },
  {
   "cell_type": "code",
   "execution_count": 7,
   "metadata": {},
   "outputs": [
    {
     "data": {
      "text/plain": [
       "(13,)"
      ]
     },
     "execution_count": 7,
     "metadata": {},
     "output_type": "execute_result"
    }
   ],
   "source": [
    "yTest = getData ('./Data/testLabels.npy')\n",
    "yTest.shape"
   ]
  },
  {
   "cell_type": "code",
   "execution_count": 8,
   "metadata": {},
   "outputs": [
    {
     "data": {
      "text/plain": [
       "(13, 7)"
      ]
     },
     "execution_count": 8,
     "metadata": {},
     "output_type": "execute_result"
    }
   ],
   "source": [
    "yTest = yTest.reshape (len (yTest), 1)\n",
    "yTest = keras.utils.to_categorical (yTest, 7)\n",
    "yTest.shape"
   ]
  },
  {
   "cell_type": "code",
   "execution_count": 14,
   "metadata": {},
   "outputs": [
    {
     "name": "stderr",
     "output_type": "stream",
     "text": [
      "C:\\Users\\abhil\\Anaconda3\\lib\\site-packages\\ipykernel_launcher.py:3: UserWarning: Update your `Conv2D` call to the Keras 2 API: `Conv2D(32, (3, 3), activation=\"relu\", input_shape=(256, 256,...)`\n",
      "  This is separate from the ipykernel package so we can avoid doing imports until\n",
      "C:\\Users\\abhil\\Anaconda3\\lib\\site-packages\\ipykernel_launcher.py:4: UserWarning: Update your `Conv2D` call to the Keras 2 API: `Conv2D(32, (3, 3), activation=\"relu\")`\n",
      "  after removing the cwd from sys.path.\n"
     ]
    }
   ],
   "source": [
    "model = Sequential()\n",
    " \n",
    "model.add(Convolution2D(32, 3, 3, activation='relu', input_shape=(256,256, 1)))\n",
    "model.add (Convolution2D (32, 3, 3, activation='relu'))\n",
    "model.add(MaxPooling2D(pool_size=(2,2)))\n",
    "model.add(Dropout(0.50))\n",
    " \n",
    "model.add(Flatten())\n",
    "model.add(Dense(100, activation='relu'))\n",
    "model.add(Dropout(0.5))\n",
    "model.add(Dense(7, activation='softmax'))"
   ]
  },
  {
   "cell_type": "code",
   "execution_count": 15,
   "metadata": {},
   "outputs": [],
   "source": [
    "model.compile (loss=keras.losses.categorical_crossentropy,\n",
    "              optimizer=keras.optimizers.Adadelta(),\n",
    "              metrics=['accuracy'])"
   ]
  },
  {
   "cell_type": "code",
   "execution_count": 16,
   "metadata": {},
   "outputs": [
    {
     "name": "stdout",
     "output_type": "stream",
     "text": [
      "Train on 200 samples, validate on 13 samples\n",
      "Epoch 1/10\n",
      "200/200 [==============================] - 46s 229ms/step - loss: 4.5005 - acc: 0.1900 - val_loss: 1.9364 - val_acc: 0.1538\n",
      "Epoch 2/10\n",
      "200/200 [==============================] - 42s 212ms/step - loss: 1.9416 - acc: 0.2650 - val_loss: 1.8615 - val_acc: 0.4615\n",
      "Epoch 3/10\n",
      "200/200 [==============================] - 43s 214ms/step - loss: 1.8578 - acc: 0.3050 - val_loss: 1.7253 - val_acc: 0.4615\n",
      "Epoch 4/10\n",
      "200/200 [==============================] - 43s 215ms/step - loss: 1.7277 - acc: 0.4150 - val_loss: 1.7161 - val_acc: 0.1538\n",
      "Epoch 5/10\n",
      "200/200 [==============================] - 43s 215ms/step - loss: 1.5324 - acc: 0.5150 - val_loss: 1.7352 - val_acc: 0.3846\n",
      "Epoch 6/10\n",
      "200/200 [==============================] - 43s 214ms/step - loss: 1.0964 - acc: 0.6850 - val_loss: 1.2861 - val_acc: 0.4615\n",
      "Epoch 7/10\n",
      "200/200 [==============================] - 43s 215ms/step - loss: 0.7086 - acc: 0.8050 - val_loss: 1.1997 - val_acc: 0.6154\n",
      "Epoch 8/10\n",
      "200/200 [==============================] - 43s 215ms/step - loss: 0.3749 - acc: 0.8850 - val_loss: 1.2612 - val_acc: 0.3846\n",
      "Epoch 9/10\n",
      "200/200 [==============================] - 43s 217ms/step - loss: 0.4069 - acc: 0.8600 - val_loss: 1.2322 - val_acc: 0.4615\n",
      "Epoch 10/10\n",
      "200/200 [==============================] - 43s 217ms/step - loss: 0.1825 - acc: 0.9600 - val_loss: 1.3957 - val_acc: 0.5385\n"
     ]
    },
    {
     "data": {
      "text/plain": [
       "<keras.callbacks.History at 0x239000d2ef0>"
      ]
     },
     "execution_count": 16,
     "metadata": {},
     "output_type": "execute_result"
    }
   ],
   "source": [
    "model.fit (xTrain, yTrain,\n",
    "          batch_size=20,\n",
    "          epochs=10,\n",
    "          verbose=1,\n",
    "          validation_data=(xTest, yTest))"
   ]
  },
  {
   "cell_type": "markdown",
   "metadata": {},
   "source": [
    "The validation accuracy is low and fluctuating as the data set is too small."
   ]
  },
  {
   "cell_type": "code",
   "execution_count": 19,
   "metadata": {},
   "outputs": [],
   "source": [
    "model_json = model.to_json()\n",
    "with open (\"model.json\", \"w\") as json_file:\n",
    "    json_file.write (model_json)"
   ]
  },
  {
   "cell_type": "code",
   "execution_count": 20,
   "metadata": {},
   "outputs": [],
   "source": [
    "model.save_weights (\"model.h5\")"
   ]
  }
 ],
 "metadata": {
  "kernelspec": {
   "display_name": "Python 3",
   "language": "python",
   "name": "python3"
  },
  "language_info": {
   "codemirror_mode": {
    "name": "ipython",
    "version": 3
   },
   "file_extension": ".py",
   "mimetype": "text/x-python",
   "name": "python",
   "nbconvert_exporter": "python",
   "pygments_lexer": "ipython3",
   "version": "3.6.5"
  }
 },
 "nbformat": 4,
 "nbformat_minor": 2
}
