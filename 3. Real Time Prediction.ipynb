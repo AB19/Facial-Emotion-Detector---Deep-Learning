{
 "cells": [
  {
   "cell_type": "markdown",
   "metadata": {},
   "source": [
    "### Facial Expression Recognizer - Part 3 (Real Time Prediction)"
   ]
  },
  {
   "cell_type": "code",
   "execution_count": 1,
   "metadata": {},
   "outputs": [
    {
     "name": "stderr",
     "output_type": "stream",
     "text": [
      "C:\\Users\\abhil\\Anaconda3\\lib\\site-packages\\h5py\\__init__.py:36: FutureWarning: Conversion of the second argument of issubdtype from `float` to `np.floating` is deprecated. In future, it will be treated as `np.float64 == np.dtype(float).type`.\n",
      "  from ._conv import register_converters as _register_converters\n",
      "Using TensorFlow backend.\n"
     ]
    }
   ],
   "source": [
    "import numpy as np\n",
    "import cv2\n",
    "from keras.models import model_from_json"
   ]
  },
  {
   "cell_type": "code",
   "execution_count": 2,
   "metadata": {},
   "outputs": [],
   "source": [
    "# function to load model and weights from given files\n",
    "# arguments: file names\n",
    "# return values: model\n",
    "def loadModel (modelFile, weightsFile):\n",
    "    jsonFile = open (modelFile, 'r')\n",
    "    loadedJson = jsonFile.read ()\n",
    "    jsonFile.close ()\n",
    "    model = model_from_json (loadedJson)\n",
    "    model.load_weights (weightsFile)\n",
    "    return model"
   ]
  },
  {
   "cell_type": "code",
   "execution_count": 3,
   "metadata": {},
   "outputs": [],
   "source": [
    "face_cascade = cv2.CascadeClassifier ('haarcascade_frontalface_default.xml')"
   ]
  },
  {
   "cell_type": "code",
   "execution_count": 4,
   "metadata": {},
   "outputs": [],
   "source": [
    "imgToLabel = {'AN': 0, 'DI': 1, 'FE': 2, 'HA': 3, 'NE': 4, 'SA': 5, 'SU': 6}"
   ]
  },
  {
   "cell_type": "code",
   "execution_count": 5,
   "metadata": {},
   "outputs": [
    {
     "name": "stdout",
     "output_type": "stream",
     "text": [
      "{0: 'AN', 1: 'DI', 2: 'FE', 3: 'HA', 4: 'NE', 5: 'SA', 6: 'SU'}\n"
     ]
    }
   ],
   "source": [
    "predictionToLabel = {v: k for k, v in imgToLabel.items ()}\n",
    "print (predictionToLabel)"
   ]
  },
  {
   "cell_type": "code",
   "execution_count": 6,
   "metadata": {},
   "outputs": [],
   "source": [
    "# function to get the label from each image\n",
    "# arguments: image\n",
    "# prints the facial expression/ emotion\n",
    "def getPrediction (image, model):\n",
    "    image = cv2.resize (image, (256, 256))\n",
    "    image = cv2.cvtColor (image, cv2.COLOR_BGR2GRAY)\n",
    "    cv2.imshow ('frame', image)\n",
    "    prediction = model.predict_classes (np.reshape (image, (1, 256, 256, 1)))\n",
    "    print ('Model predicts: ' + predictionToLabel [prediction [0]])"
   ]
  },
  {
   "cell_type": "code",
   "execution_count": null,
   "metadata": {},
   "outputs": [],
   "source": [
    "cap = cv2.VideoCapture (0)\n",
    "model = loadModel ('model.json', 'model.h5')\n",
    "while(True):\n",
    "    ret, frame = cap.read()\n",
    "    gray = cv2.cvtColor (frame, cv2.COLOR_BGR2GRAY)\n",
    "    faces = face_cascade.detectMultiScale(gray, 1.3, 5)\n",
    "    \n",
    "    for (x, y, w, h) in faces:\n",
    "        frame = cv2.rectangle (frame, (x,y), (x+w,y+h), (120,250,0), 2)\n",
    "        \n",
    "        subface = frame [y:y+h, x:x+w]\n",
    "        getPrediction (subface, model)\n",
    "        \n",
    "    cv2.imshow ('frame', frame)\n",
    "    \n",
    "    if cv2.waitKey(1) & 0xFF == ord('q'):\n",
    "        break"
   ]
  }
 ],
 "metadata": {
  "kernelspec": {
   "display_name": "Python 3",
   "language": "python",
   "name": "python3"
  },
  "language_info": {
   "codemirror_mode": {
    "name": "ipython",
    "version": 3
   },
   "file_extension": ".py",
   "mimetype": "text/x-python",
   "name": "python",
   "nbconvert_exporter": "python",
   "pygments_lexer": "ipython3",
   "version": "3.6.5"
  }
 },
 "nbformat": 4,
 "nbformat_minor": 2
}
