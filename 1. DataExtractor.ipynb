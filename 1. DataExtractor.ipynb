{
 "cells": [
  {
   "cell_type": "markdown",
   "metadata": {},
   "source": [
    "### Facial Expression Recognizer - Part 1 (Data Extractor)\n",
    "\n",
    "Data Scource: http://www.kasrl.org/jaffe.html\n",
    "\n",
    "Number of images: 213\n",
    "\n",
    "1. Read Images - Convert to numpy arrays\n",
    "2. Label each image\n",
    "3. Dump numpy array into a file"
   ]
  },
  {
   "cell_type": "code",
   "execution_count": 1,
   "metadata": {},
   "outputs": [],
   "source": [
    "import cv2\n",
    "import numpy as np\n",
    "import os\n",
    "import glob"
   ]
  },
  {
   "cell_type": "code",
   "execution_count": 2,
   "metadata": {},
   "outputs": [],
   "source": [
    "imgToLabel = {'AN': 0, 'DI': 1, 'FE': 2, 'HA': 3, 'NE': 4, 'SA': 5, 'SU': 6}"
   ]
  },
  {
   "cell_type": "code",
   "execution_count": 3,
   "metadata": {},
   "outputs": [],
   "source": [
    "# function to read an image into a numpy array - default read as grayscale\n",
    "# arguments: image name\n",
    "# return values: numpy array of the image\n",
    "def getArray (image, mode = 0):\n",
    "    imgArray = cv2.imread (image, mode)\n",
    "    return imgArray/ 255"
   ]
  },
  {
   "cell_type": "code",
   "execution_count": 4,
   "metadata": {},
   "outputs": [],
   "source": [
    "# function to get the label from the name of the image\n",
    "# arguments: image name\n",
    "# return values: label mapped from the image to label dictionary\n",
    "def getLabel (image):\n",
    "    expression = image.split ('.') [1][:-1]\n",
    "    return imgToLabel [expression]"
   ]
  },
  {
   "cell_type": "code",
   "execution_count": 5,
   "metadata": {},
   "outputs": [],
   "source": [
    "# function to loop through the image list and get image arrays and labels\n",
    "# arguments: image list\n",
    "# return values: data array\n",
    "def looper (imageList):\n",
    "    features = []\n",
    "    labels = []\n",
    "    for image in imageList:\n",
    "        features.append (getArray (image))\n",
    "        labels.append (getLabel (image))\n",
    "    return np.array (features), np.array (labels)"
   ]
  },
  {
   "cell_type": "code",
   "execution_count": 6,
   "metadata": {},
   "outputs": [],
   "source": [
    "def main (imageDir, dataFile):\n",
    "    os.chdir (imageDir)\n",
    "    imageList = glob.glob ('*')\n",
    "    \n",
    "    features, labels = looper (imageList)\n",
    "    \n",
    "    os.chdir ('..')\n",
    "    np.save ('trainFeatures.npy', features [:200])\n",
    "    np.save ('testFeatures.npy', features [200:])\n",
    "    np.save ('trainLabels.npy', labels [:200])\n",
    "    np.save ('testLabels.npy', labels [200:])"
   ]
  },
  {
   "cell_type": "code",
   "execution_count": 7,
   "metadata": {},
   "outputs": [],
   "source": [
    "main ('./Data/Jaffe', 'data.csv')"
   ]
  }
 ],
 "metadata": {
  "kernelspec": {
   "display_name": "Python 3",
   "language": "python",
   "name": "python3"
  },
  "language_info": {
   "codemirror_mode": {
    "name": "ipython",
    "version": 3
   },
   "file_extension": ".py",
   "mimetype": "text/x-python",
   "name": "python",
   "nbconvert_exporter": "python",
   "pygments_lexer": "ipython3",
   "version": "3.6.5"
  }
 },
 "nbformat": 4,
 "nbformat_minor": 2
}
